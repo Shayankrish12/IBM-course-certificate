{
 "cells": [
  {
   "cell_type": "markdown",
   "id": "041cb9c8-bac9-4878-b47a-6cf56119bfb2",
   "metadata": {},
   "source": [
    "# Data Science Tools and Ecosystem\n"
   ]
  },
  {
   "cell_type": "markdown",
   "id": "dcc497e1-1cea-439c-9e0c-11e4dadb348a",
   "metadata": {},
   "source": [
    "In this notebook, Data Science Tools and Ecosystem are summarized.\n"
   ]
  },
  {
   "cell_type": "markdown",
   "id": "80a95198-7f0e-4bbc-8da0-a24b9a13aa72",
   "metadata": {},
   "source": [
    "Some of the popular languages that Data Scientists use are:\n",
    "1. Python  \n",
    "2. R  \n",
    "3. SQL  \n",
    "4. Julia\n"
   ]
  },
  {
   "cell_type": "markdown",
   "id": "b26e55cf-3370-4cae-890e-2ff30b38c757",
   "metadata": {},
   "source": [
    "Some of the commonly used libraries used by Data Scientists include:\n",
    "1. Pandas  \n",
    "2. NumPy  \n",
    "3. Scikit-learn  \n",
    "4. TensorFlow\n"
   ]
  },
  {
   "cell_type": "markdown",
   "id": "9cf7e98d-4e19-4d8a-83bd-7c106ef82654",
   "metadata": {},
   "source": [
    "| Data Science Tools         |\n",
    "|---------------------------|\n",
    "| Jupyter Notebook          |\n",
    "| RStudio                   |\n",
    "| VS Code                   |\n"
   ]
  },
  {
   "cell_type": "code",
   "execution_count": 2,
   "id": "beac1489-b75a-469d-a00b-cdd9223f3abc",
   "metadata": {},
   "outputs": [
    {
     "data": {
      "text/plain": [
       "17"
      ]
     },
     "execution_count": 2,
     "metadata": {},
     "output_type": "execute_result"
    }
   ],
   "source": [
    "(3*4)+5\n"
   ]
  },
  {
   "cell_type": "code",
   "execution_count": 3,
   "id": "a5f0c23f-24dc-4217-ace0-8a6dbd5e590e",
   "metadata": {},
   "outputs": [
    {
     "data": {
      "text/plain": [
       "3.3333333333333335"
      ]
     },
     "execution_count": 3,
     "metadata": {},
     "output_type": "execute_result"
    }
   ],
   "source": [
    "# This will convert 200 minutes to hours by dividing by 60.\n",
    "200 / 60\n"
   ]
  },
  {
   "cell_type": "markdown",
   "id": "6ec9198b-fd9f-4d93-8c0f-5b36974d4da7",
   "metadata": {},
   "source": [
    "**Objectives:**\n",
    "- List popular languages for Data Science  \n",
    "- List commonly used libraries by Data Scientists  \n",
    "- Create tables in markdown  \n",
    "- Perform basic arithmetic operations using Python  \n",
    "- Convert minutes to hours using Python\n"
   ]
  },
  {
   "cell_type": "markdown",
   "id": "854df906-cc38-458b-9a20-74ae9b265634",
   "metadata": {},
   "source": [
    "## Author\n",
    "Shayan Kundu\n"
   ]
  },
  {
   "cell_type": "code",
   "execution_count": null,
   "id": "8b4649bb-f52e-4846-b34d-79de8b21fd35",
   "metadata": {},
   "outputs": [],
   "source": []
  }
 ],
 "metadata": {
  "kernelspec": {
   "display_name": "Python 3 (ipykernel)",
   "language": "python",
   "name": "python3"
  },
  "language_info": {
   "codemirror_mode": {
    "name": "ipython",
    "version": 3
   },
   "file_extension": ".py",
   "mimetype": "text/x-python",
   "name": "python",
   "nbconvert_exporter": "python",
   "pygments_lexer": "ipython3",
   "version": "3.12.6"
  }
 },
 "nbformat": 4,
 "nbformat_minor": 5
}
